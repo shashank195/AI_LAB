{
  "nbformat": 4,
  "nbformat_minor": 0,
  "metadata": {
    "colab": {
      "name": "Untitled14.ipynb",
      "provenance": []
    },
    "kernelspec": {
      "name": "python3",
      "display_name": "Python 3"
    }
  },
  "cells": [
    {
      "cell_type": "code",
      "metadata": {
        "id": "4JkO4IUALpEX"
      },
      "source": [
        "def h(src,tar):\n",
        "  empty_slot = tar.index(-1)\n",
        "\n",
        "  count = 0\n",
        "  for index in range(len(src)):\n",
        "    if empty_slot != index and src[index] != tar[index]:\n",
        "      count+=1\n",
        "\n",
        "  return count\n",
        "    \n"
      ],
      "execution_count": 114,
      "outputs": []
    },
    {
      "cell_type": "code",
      "metadata": {
        "id": "O3Hi3buULqQY"
      },
      "source": [
        "def dfs(src,target,visited_states,limit):\n",
        "\n",
        "  if src == target:\n",
        "    return True\n",
        "\n",
        "  if limit==0:\n",
        "    return False\n",
        "\n",
        "  visited_states.append(src)\n",
        "\n",
        "  poss_moves = []\n",
        "  poss_moves = possible_states(src,visited_states)\n",
        "\n",
        "  all_cost = []\n",
        "  for id_move in range(len(poss_moves)):\n",
        "    all_cost.append(h(poss_moves[id_move],target))\n",
        "\n",
        "  poss = []\n",
        "  min_cost = min(all_cost)\n",
        "\n",
        "  for id_cost in range(len(all_cost)):\n",
        "    if all_cost[id_cost]==min_cost:\n",
        "      poss.append(poss_moves[id_cost])\n",
        "\n",
        "  # print(poss)\n",
        "  for move in poss:\n",
        "    # print(move)\n",
        "    if dfs(move,target,visited_states,limit-1)==True:\n",
        "      return True \n",
        "\n",
        "  return False\n",
        "\n",
        "\n"
      ],
      "execution_count": 115,
      "outputs": []
    },
    {
      "cell_type": "code",
      "metadata": {
        "id": "2bBWRihuLbNJ"
      },
      "source": [
        "def possible_states(src,visited_states):\n",
        "\n",
        "  blank = src.index(-1)\n",
        "\n",
        "  d = []\n",
        "  if blank not in [0,1,2]:\n",
        "    d.append('u')\n",
        "\n",
        "  if blank not in [2,5,8]:\n",
        "    d.append('r')\n",
        "\n",
        "  if blank not in [6,7,8]:\n",
        "    d.append('d')\n",
        "\n",
        "  if blank not in [0,3,6]:\n",
        "    d.append('l')\n",
        "\n",
        "  \n",
        "\n",
        "  all_states = []\n",
        "  for i in d:\n",
        "    all_states.append(get_possible_state(src,i,blank))\n",
        "\n",
        "  return [move for move in all_states if move not in visited_states]\n",
        "\n"
      ],
      "execution_count": 116,
      "outputs": []
    },
    {
      "cell_type": "code",
      "metadata": {
        "id": "L1rwBkh-LfyI"
      },
      "source": [
        "def get_possible_state(src,action,blank):\n",
        "\n",
        "  temp = src.copy()\n",
        "  # print(action)\n",
        "  if action=='u':\n",
        "    temp[blank],temp[blank-3] = temp[blank-3],temp[blank]\n",
        "\n",
        "  if action=='r':\n",
        "    temp[blank],temp[blank+1] = temp[blank+1],temp[blank]\n",
        "\n",
        "  if action=='l':\n",
        "    temp[blank],temp[blank-1] = temp[blank-1],temp[blank]\n",
        "\n",
        "  if action=='d':\n",
        "    temp[blank],temp[blank+3] = temp[blank+3],temp[blank]\n",
        "\n",
        "  # print(temp)\n",
        "  return temp\n",
        "\n"
      ],
      "execution_count": 117,
      "outputs": []
    },
    {
      "cell_type": "code",
      "metadata": {
        "id": "-HLbhNzBLhxF",
        "outputId": "3bfcc9a4-8ab4-433c-cf8d-e90fb5dc4e48",
        "colab": {
          "base_uri": "https://localhost:8080/"
        }
      },
      "source": [
        "src = ['*',2,4,'*',-1,'*','*',3,1]\n",
        "target = [-1,1,2,3,4,'*','*','*','*'] \n",
        "\n",
        "for i in range(4):\n",
        "  print(dfs(src,target,[],i))\n"
      ],
      "execution_count": 118,
      "outputs": [
        {
          "output_type": "stream",
          "text": [
            "False\n",
            "False\n",
            "False\n",
            "False\n"
          ],
          "name": "stdout"
        }
      ]
    },
    {
      "cell_type": "code",
      "metadata": {
        "id": "N9qVy3QeLkxd"
      },
      "source": [
        ""
      ],
      "execution_count": null,
      "outputs": []
    },
    {
      "cell_type": "code",
      "metadata": {
        "id": "9XcI7liiPmpl"
      },
      "source": [
        ""
      ],
      "execution_count": null,
      "outputs": []
    },
    {
      "cell_type": "code",
      "metadata": {
        "id": "kubTeMp4P0iK"
      },
      "source": [
        ""
      ],
      "execution_count": null,
      "outputs": []
    }
  ]
}